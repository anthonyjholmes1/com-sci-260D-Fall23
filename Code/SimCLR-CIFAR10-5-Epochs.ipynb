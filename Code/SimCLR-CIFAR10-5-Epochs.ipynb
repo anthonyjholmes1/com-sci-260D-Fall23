{
  "nbformat": 4,
  "nbformat_minor": 0,
  "metadata": {
    "colab": {
      "provenance": [],
      "gpuType": "T4"
    },
    "kernelspec": {
      "name": "python3",
      "display_name": "Python 3"
    },
    "language_info": {
      "name": "python"
    },
    "accelerator": "GPU"
  },
  "cells": [
    {
      "cell_type": "markdown",
      "source": [],
      "metadata": {
        "id": "JfzYoVk9xXbk"
      }
    },
    {
      "cell_type": "code",
      "source": [
        "import torch\n",
        "import torch.nn as nn\n",
        "import torch.optim as optim\n",
        "import torchvision\n",
        "import torchvision.transforms as transforms\n",
        "import matplotlib.pyplot as plt\n",
        "from torchvision import models\n",
        "from torch.utils.data import DataLoader\n"
      ],
      "metadata": {
        "id": "EQmlh2ITxYem"
      },
      "execution_count": 4,
      "outputs": []
    },
    {
      "cell_type": "code",
      "source": [
        "# Check if CUDA is available (GPU)\n",
        "if torch.cuda.is_available():\n",
        "    device = torch.device(\"cuda\")\n",
        "else:\n",
        "    device = torch.device(\"cpu\")"
      ],
      "metadata": {
        "id": "yKnbhbQexcz1"
      },
      "execution_count": 5,
      "outputs": []
    },
    {
      "cell_type": "code",
      "source": [
        "transform = transforms.Compose([\n",
        "    transforms.RandomResizedCrop(224),\n",
        "    transforms.RandomHorizontalFlip(),\n",
        "    transforms.ToTensor(),\n",
        "    transforms.Normalize(mean=[0.485, 0.456, 0.406], std=[0.229, 0.224, 0.225]),\n",
        "])\n",
        "# Load CIFAR-10 dataset\n",
        "cifar10_dataset = torchvision.datasets.CIFAR10(root='./data', train=True, transform=transform, download=True)\n",
        "cifar10_loader = DataLoader(cifar10_dataset, batch_size=64, shuffle=True, num_workers=2)"
      ],
      "metadata": {
        "colab": {
          "base_uri": "https://localhost:8080/"
        },
        "id": "PL2whFOfxfmN",
        "outputId": "052acc5a-938c-4ecd-9ec3-c6be6dc88c89"
      },
      "execution_count": 6,
      "outputs": [
        {
          "output_type": "stream",
          "name": "stdout",
          "text": [
            "Files already downloaded and verified\n"
          ]
        }
      ]
    },
    {
      "cell_type": "code",
      "source": [
        "class SimCLRModel(nn.Module):\n",
        "    def __init__(self, base_encoder, projection_dim=128):\n",
        "        super(SimCLRModel, self).__init__()\n",
        "        self.encoder = base_encoder\n",
        "        self.projection_dim = projection_dim\n",
        "\n",
        "        # Get the output size of the base encoder dynamically\n",
        "        with torch.no_grad():\n",
        "            dummy_input = torch.randn(1, 3, 224, 224)  # Assumes input size of (3, 224, 224)\n",
        "            encoder_output = self.encoder(dummy_input)\n",
        "            self.feature_dim = encoder_output.size(-1)\n",
        "\n",
        "        # Projection head\n",
        "        self.projector = nn.Sequential(\n",
        "            nn.Linear(self.feature_dim, 512),\n",
        "            nn.ReLU(),\n",
        "            nn.Linear(512, projection_dim)\n",
        "        )\n",
        "\n",
        "    def forward(self, x):\n",
        "        features = self.encoder(x)\n",
        "        projections = self.projector(features)\n",
        "        return features, projections"
      ],
      "metadata": {
        "id": "DCMBDzLsxg_v"
      },
      "execution_count": 7,
      "outputs": []
    },
    {
      "cell_type": "code",
      "source": [
        "\n",
        "# Define SimCLR-specific augmentations\n",
        "simclr_transform = transforms.Compose([\n",
        "    transforms.RandomResizedCrop(224),\n",
        "    transforms.RandomHorizontalFlip(),\n",
        "    transforms.ColorJitter(0.5, 0.5, 0.5, 0.5),\n",
        "    transforms.RandomGrayscale(p=0.2),\n",
        "    transforms.ToTensor(),\n",
        "    transforms.Normalize(mean=[0.485, 0.456, 0.406], std=[0.229, 0.224, 0.225]),\n",
        "])"
      ],
      "metadata": {
        "id": "h3n8lpylxmTZ"
      },
      "execution_count": 8,
      "outputs": []
    },
    {
      "cell_type": "code",
      "source": [
        "\n",
        "# Initialize the base encoder (e.g., ResNet-18)\n",
        "base_encoder = models.resnet18(weights=None)\n",
        "base_encoder.fc = nn.Identity()\n",
        "# Initialize the SimCLR model\n",
        "simclr_model = SimCLRModel(base_encoder)\n",
        "# Set up the loss function (contrastive loss)\n",
        "criterion = nn.CrossEntropyLoss()\n",
        "# Set up the optimizer (e.g., Adam)\n",
        "optimizer = optim.Adam(simclr_model.parameters(), lr=0.001)"
      ],
      "metadata": {
        "id": "orx9eUeZxp2Y"
      },
      "execution_count": 9,
      "outputs": []
    },
    {
      "cell_type": "code",
      "execution_count": 10,
      "metadata": {
        "id": "oB2EzP853v7S",
        "colab": {
          "base_uri": "https://localhost:8080/"
        },
        "outputId": "c4f2814f-6226-4673-ff12-3dc97a2dc4e3"
      },
      "outputs": [
        {
          "output_type": "stream",
          "name": "stdout",
          "text": [
            "Epoch [1/5] Loss: 0.0327, Accuracy: 100.00%\n",
            "Epoch [2/5] Loss: 0.0048, Accuracy: 100.00%\n",
            "Epoch [3/5] Loss: 0.0026, Accuracy: 100.00%\n",
            "Epoch [4/5] Loss: 0.0045, Accuracy: 100.00%\n",
            "Epoch [5/5] Loss: 0.0031, Accuracy: 100.00%\n",
            "Training finished\n"
          ]
        }
      ],
      "source": [
        "\n",
        "# Training loop for 5 epochs\n",
        "num_epochs = 5\n",
        "\n",
        "train_losses = []  # Store loss values for plotting\n",
        "train_accuracies = []  # Store accuracy values for plotting\n",
        "\n",
        "for epoch in range(num_epochs):\n",
        "    simclr_model.train()\n",
        "    running_loss = 0.0\n",
        "    correct_predictions = 0\n",
        "    total_predictions = 0\n",
        "\n",
        "    for data in cifar10_loader:\n",
        "        inputs, _ = data\n",
        "        inputs = inputs.to(device)\n",
        "\n",
        "        simclr_model.to(device)\n",
        "\n",
        "        optimizer.zero_grad()\n",
        "\n",
        "        # Generate positive and negative pairs\n",
        "        features, projections = simclr_model(inputs)\n",
        "        projections = projections / torch.norm(projections, dim=1, keepdim=True)\n",
        "\n",
        "        # Compute similarity scores\n",
        "        similarity_matrix = torch.matmul(projections, projections.t())\n",
        "        batch_size = inputs.size(0)\n",
        "\n",
        "        # Generate labels for contrastive loss\n",
        "        labels = torch.arange(batch_size).to(device)\n",
        "        logits = similarity_matrix / 0.07  # Temperature parameter (tune as needed)\n",
        "        loss = criterion(logits, labels)\n",
        "\n",
        "         # Calculate accuracy\n",
        "        _, predicted = torch.max(logits, 1)\n",
        "        total_predictions += labels.size(0)\n",
        "        correct_predictions += (predicted == labels).sum().item()\n",
        "\n",
        "        loss.backward()\n",
        "        optimizer.step()\n",
        "\n",
        "        running_loss += loss.item()\n",
        "\n",
        "    # Calculate and store accuracy\n",
        "    accuracy = 100 * correct_predictions / total_predictions\n",
        "    train_accuracies.append(accuracy)\n",
        "\n",
        "    # Print the average loss and accuracy for this epoch\n",
        "    print(f'Epoch [{epoch + 1}/{num_epochs}] Loss: {running_loss / len(cifar10_loader):.4f}, Accuracy: {accuracy:.2f}%')\n",
        "\n",
        "    # Store the loss for plotting\n",
        "    train_losses.append(running_loss / len(cifar10_loader))\n",
        "\n",
        "print('Training finished')"
      ]
    },
    {
      "cell_type": "code",
      "source": [
        "\n",
        "plt.figure(figsize=(12, 4))\n",
        "plt.subplot(1, 2, 1)\n",
        "plt.plot(train_losses, label='Training Loss')\n",
        "plt.xlabel('Epoch')\n",
        "plt.ylabel('Loss')\n",
        "plt.legend()\n",
        "\n",
        "plt.subplot(1, 2, 2)\n",
        "plt.plot(train_accuracies, label='Training Accuracy')\n",
        "plt.xlabel('Epoch')\n",
        "plt.ylabel('Accuracy (%)')\n",
        "plt.legend()\n",
        "\n",
        "plt.show()"
      ],
      "metadata": {
        "colab": {
          "base_uri": "https://localhost:8080/",
          "height": 388
        },
        "id": "Rse_GjiZxtse",
        "outputId": "a801b4cd-04f3-4a20-82b7-3379076f64fd"
      },
      "execution_count": 11,
      "outputs": [
        {
          "output_type": "display_data",
          "data": {
            "text/plain": [
              "<Figure size 1200x400 with 2 Axes>"
            ],
            "image/png": "[encoded data removed]"
          },
          "metadata": {}
        }
      ]
    }
  ]
}