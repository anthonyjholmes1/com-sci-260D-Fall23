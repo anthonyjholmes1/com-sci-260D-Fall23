{
  "nbformat": 4,
  "nbformat_minor": 0,
  "metadata": {
    "colab": {
      "provenance": [],
      "gpuType": "T4"
    },
    "kernelspec": {
      "name": "python3",
      "display_name": "Python 3"
    },
    "language_info": {
      "name": "python"
    },
    "accelerator": "GPU"
  },
  "cells": [
    {
      "cell_type": "markdown",
      "source": [],
      "metadata": {
        "id": "JfzYoVk9xXbk"
      }
    },
    {
      "cell_type": "code",
      "source": [
        "import torch\n",
        "import torch.nn as nn\n",
        "import torch.optim as optim\n",
        "import torchvision\n",
        "import torchvision.transforms as transforms\n",
        "import matplotlib.pyplot as plt\n",
        "from torchvision import models\n",
        "from torch.utils.data import DataLoader\n"
      ],
      "metadata": {
        "id": "EQmlh2ITxYem"
      },
      "execution_count": 2,
      "outputs": []
    },
    {
      "cell_type": "code",
      "source": [
        "# Check if CUDA is available (GPU)\n",
        "if torch.cuda.is_available():\n",
        "    device = torch.device(\"cuda\")\n",
        "else:\n",
        "    device = torch.device(\"cpu\")"
      ],
      "metadata": {
        "id": "yKnbhbQexcz1"
      },
      "execution_count": 3,
      "outputs": []
    },
    {
      "cell_type": "code",
      "source": [
        "transform = transforms.Compose([\n",
        "    transforms.RandomResizedCrop(224),\n",
        "    transforms.RandomHorizontalFlip(),\n",
        "    transforms.ToTensor(),\n",
        "    transforms.Normalize(mean=[0.485, 0.456, 0.406], std=[0.229, 0.224, 0.225]),\n",
        "])\n",
        "# Load CIFAR-10 dataset\n",
        "cifar10_dataset = torchvision.datasets.CIFAR10(root='./data', train=True, transform=transform, download=True)\n",
        "cifar10_loader = DataLoader(cifar10_dataset, batch_size=64, shuffle=True, num_workers=2)"
      ],
      "metadata": {
        "colab": {
          "base_uri": "https://localhost:8080/"
        },
        "id": "PL2whFOfxfmN",
        "outputId": "4b515310-fe03-4f89-a511-d280c1475764"
      },
      "execution_count": 4,
      "outputs": [
        {
          "output_type": "stream",
          "name": "stdout",
          "text": [
            "Downloading https://www.cs.toronto.edu/~kriz/cifar-10-python.tar.gz to ./data/cifar-10-python.tar.gz\n"
          ]
        },
        {
          "output_type": "stream",
          "name": "stderr",
          "text": [
            "100%|██████████| 170498071/170498071 [00:03<00:00, 43000666.86it/s]\n"
          ]
        },
        {
          "output_type": "stream",
          "name": "stdout",
          "text": [
            "Extracting ./data/cifar-10-python.tar.gz to ./data\n"
          ]
        }
      ]
    },
    {
      "cell_type": "code",
      "source": [
        "class SimCLRModel(nn.Module):\n",
        "    def __init__(self, base_encoder, projection_dim=128):\n",
        "        super(SimCLRModel, self).__init__()\n",
        "        self.encoder = base_encoder\n",
        "        self.projection_dim = projection_dim\n",
        "\n",
        "        # Get the output size of the base encoder dynamically\n",
        "        with torch.no_grad():\n",
        "            dummy_input = torch.randn(1, 3, 224, 224)  # Assumes input size of (3, 224, 224)\n",
        "            encoder_output = self.encoder(dummy_input)\n",
        "            self.feature_dim = encoder_output.size(-1)\n",
        "\n",
        "        # Projection head\n",
        "        self.projector = nn.Sequential(\n",
        "            nn.Linear(self.feature_dim, 512),\n",
        "            nn.ReLU(),\n",
        "            nn.Linear(512, projection_dim)\n",
        "        )\n",
        "\n",
        "    def forward(self, x):\n",
        "        features = self.encoder(x)\n",
        "        projections = self.projector(features)\n",
        "        return features, projections"
      ],
      "metadata": {
        "id": "DCMBDzLsxg_v"
      },
      "execution_count": 5,
      "outputs": []
    },
    {
      "cell_type": "code",
      "source": [
        "\n",
        "# Define SimCLR-specific augmentations\n",
        "simclr_transform = transforms.Compose([\n",
        "    transforms.RandomResizedCrop(224),\n",
        "    transforms.RandomHorizontalFlip(),\n",
        "    transforms.ColorJitter(0.5, 0.5, 0.5, 0.5),\n",
        "    transforms.RandomGrayscale(p=0.2),\n",
        "    transforms.ToTensor(),\n",
        "    transforms.Normalize(mean=[0.485, 0.456, 0.406], std=[0.229, 0.224, 0.225]),\n",
        "])"
      ],
      "metadata": {
        "id": "h3n8lpylxmTZ"
      },
      "execution_count": 6,
      "outputs": []
    },
    {
      "cell_type": "code",
      "source": [
        "\n",
        "# Initialize the base encoder (e.g., ResNet-18)\n",
        "base_encoder = models.resnet18(weights=None)\n",
        "base_encoder.fc = nn.Identity()\n",
        "# Initialize the SimCLR model\n",
        "simclr_model = SimCLRModel(base_encoder)\n",
        "# Set up the loss function (contrastive loss)\n",
        "criterion = nn.CrossEntropyLoss()\n",
        "# Set up the optimizer (e.g., Adam)\n",
        "optimizer = optim.Adam(simclr_model.parameters(), lr=0.001)"
      ],
      "metadata": {
        "id": "orx9eUeZxp2Y"
      },
      "execution_count": 7,
      "outputs": []
    },
    {
      "cell_type": "code",
      "execution_count": 8,
      "metadata": {
        "id": "oB2EzP853v7S",
        "colab": {
          "base_uri": "https://localhost:8080/"
        },
        "outputId": "78e0a545-278f-4bf8-b93c-71ab143a4d8d"
      },
      "outputs": [
        {
          "output_type": "stream",
          "name": "stdout",
          "text": [
            "Epoch [1/50] Loss: 0.0347, Accuracy: 100.00%\n",
            "Epoch [2/50] Loss: 0.0049, Accuracy: 100.00%\n",
            "Epoch [3/50] Loss: 0.0022, Accuracy: 100.00%\n",
            "Epoch [4/50] Loss: 0.0032, Accuracy: 100.00%\n",
            "Epoch [5/50] Loss: 0.0029, Accuracy: 100.00%\n",
            "Epoch [6/50] Loss: 0.0017, Accuracy: 100.00%\n",
            "Epoch [7/50] Loss: 0.0026, Accuracy: 100.00%\n",
            "Epoch [8/50] Loss: 0.0011, Accuracy: 100.00%\n",
            "Epoch [9/50] Loss: 0.0016, Accuracy: 100.00%\n",
            "Epoch [10/50] Loss: 0.0010, Accuracy: 100.00%\n",
            "Epoch [11/50] Loss: 0.0020, Accuracy: 100.00%\n",
            "Epoch [12/50] Loss: 0.0012, Accuracy: 100.00%\n",
            "Epoch [13/50] Loss: 0.0010, Accuracy: 100.00%\n",
            "Epoch [14/50] Loss: 0.0008, Accuracy: 100.00%\n",
            "Epoch [15/50] Loss: 0.0008, Accuracy: 100.00%\n",
            "Epoch [16/50] Loss: 0.0011, Accuracy: 100.00%\n",
            "Epoch [17/50] Loss: 0.0011, Accuracy: 100.00%\n",
            "Epoch [18/50] Loss: 0.0007, Accuracy: 100.00%\n",
            "Epoch [19/50] Loss: 0.0006, Accuracy: 100.00%\n",
            "Epoch [20/50] Loss: 0.0007, Accuracy: 100.00%\n",
            "Epoch [21/50] Loss: 0.0007, Accuracy: 100.00%\n",
            "Epoch [22/50] Loss: 0.0008, Accuracy: 100.00%\n",
            "Epoch [23/50] Loss: 0.0006, Accuracy: 100.00%\n",
            "Epoch [24/50] Loss: 0.0005, Accuracy: 100.00%\n",
            "Epoch [25/50] Loss: 0.0007, Accuracy: 100.00%\n",
            "Epoch [26/50] Loss: 0.0006, Accuracy: 100.00%\n",
            "Epoch [27/50] Loss: 0.0004, Accuracy: 100.00%\n",
            "Epoch [28/50] Loss: 0.0005, Accuracy: 100.00%\n",
            "Epoch [29/50] Loss: 0.0005, Accuracy: 100.00%\n",
            "Epoch [30/50] Loss: 0.0005, Accuracy: 100.00%\n",
            "Epoch [31/50] Loss: 0.0004, Accuracy: 100.00%\n",
            "Epoch [32/50] Loss: 0.0005, Accuracy: 100.00%\n",
            "Epoch [33/50] Loss: 0.0005, Accuracy: 100.00%\n",
            "Epoch [34/50] Loss: 0.0004, Accuracy: 100.00%\n",
            "Epoch [35/50] Loss: 0.0004, Accuracy: 100.00%\n",
            "Epoch [36/50] Loss: 0.0004, Accuracy: 100.00%\n",
            "Epoch [37/50] Loss: 0.0004, Accuracy: 100.00%\n",
            "Epoch [38/50] Loss: 0.0004, Accuracy: 100.00%\n",
            "Epoch [39/50] Loss: 0.0004, Accuracy: 100.00%\n",
            "Epoch [40/50] Loss: 0.0005, Accuracy: 100.00%\n",
            "Epoch [41/50] Loss: 0.0004, Accuracy: 100.00%\n",
            "Epoch [42/50] Loss: 0.0004, Accuracy: 100.00%\n",
            "Epoch [43/50] Loss: 0.0003, Accuracy: 100.00%\n",
            "Epoch [44/50] Loss: 0.0003, Accuracy: 100.00%\n",
            "Epoch [45/50] Loss: 0.0003, Accuracy: 100.00%\n",
            "Epoch [46/50] Loss: 0.0003, Accuracy: 100.00%\n",
            "Epoch [47/50] Loss: 0.0003, Accuracy: 100.00%\n",
            "Epoch [48/50] Loss: 0.0003, Accuracy: 100.00%\n",
            "Epoch [49/50] Loss: 0.0003, Accuracy: 100.00%\n",
            "Epoch [50/50] Loss: 0.0003, Accuracy: 100.00%\n",
            "Training finished\n"
          ]
        }
      ],
      "source": [
        "\n",
        "# Training loop for 50 epochs\n",
        "num_epochs = 50\n",
        "\n",
        "train_losses = []  # Store loss values for plotting\n",
        "train_accuracies = []  # Store accuracy values for plotting\n",
        "\n",
        "for epoch in range(num_epochs):\n",
        "    simclr_model.train()\n",
        "    running_loss = 0.0\n",
        "    correct_predictions = 0\n",
        "    total_predictions = 0\n",
        "\n",
        "    for data in cifar10_loader:\n",
        "        inputs, _ = data\n",
        "        inputs = inputs.to(device)\n",
        "\n",
        "        simclr_model.to(device)\n",
        "\n",
        "        optimizer.zero_grad()\n",
        "\n",
        "        # Generate positive and negative pairs\n",
        "        features, projections = simclr_model(inputs)\n",
        "        projections = projections / torch.norm(projections, dim=1, keepdim=True)\n",
        "\n",
        "        # Compute similarity scores\n",
        "        similarity_matrix = torch.matmul(projections, projections.t())\n",
        "        batch_size = inputs.size(0)\n",
        "\n",
        "        # Generate labels for contrastive loss\n",
        "        labels = torch.arange(batch_size).to(device)\n",
        "        logits = similarity_matrix / 0.07  # Temperature parameter (tune as needed)\n",
        "        loss = criterion(logits, labels)\n",
        "\n",
        "         # Calculate accuracy\n",
        "        _, predicted = torch.max(logits, 1)\n",
        "        total_predictions += labels.size(0)\n",
        "        correct_predictions += (predicted == labels).sum().item()\n",
        "\n",
        "        loss.backward()\n",
        "        optimizer.step()\n",
        "\n",
        "        running_loss += loss.item()\n",
        "\n",
        "    # Calculate and store accuracy\n",
        "    accuracy = 100 * correct_predictions / total_predictions\n",
        "    train_accuracies.append(accuracy)\n",
        "\n",
        "    # Print the average loss and accuracy for this epoch\n",
        "    print(f'Epoch [{epoch + 1}/{num_epochs}] Loss: {running_loss / len(cifar10_loader):.4f}, Accuracy: {accuracy:.2f}%')\n",
        "\n",
        "    # Store the loss for plotting\n",
        "    train_losses.append(running_loss / len(cifar10_loader))\n",
        "\n",
        "print('Training finished')"
      ]
    },
    {
      "cell_type": "code",
      "source": [
        "import matplotlib.pyplot as plt\n",
        "\n",
        "plt.figure(figsize=(12, 4))\n",
        "plt.subplot(1, 2, 1)\n",
        "plt.plot(train_losses, label='Training Loss')\n",
        "plt.xlabel('Epoch')\n",
        "plt.ylabel('Loss')\n",
        "plt.legend()\n",
        "\n",
        "plt.subplot(1, 2, 2)\n",
        "plt.plot(train_accuracies, label='Training Accuracy')\n",
        "plt.xlabel('Epoch')\n",
        "plt.ylabel('Accuracy (%)')\n",
        "plt.legend()\n",
        "\n",
        "plt.show()"
      ],
      "metadata": {
        "colab": {
          "base_uri": "https://localhost:8080/",
          "height": 388
        },
        "id": "Rse_GjiZxtse",
        "outputId": "82528e6f-fca9-455e-ff63-8862b94d6b11"
      },
      "execution_count": 4,
      "outputs": [
        {
          "output_type": "display_data",
          "data": {
            "text/plain": [
              "<Figure size 1200x400 with 2 Axes>"
            ],
            "image/png": "[encoded data removed]"
          },
          "metadata": {}
        }
      ]
    }
  ]
}